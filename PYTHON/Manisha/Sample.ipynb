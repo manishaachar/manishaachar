{
 "cells": [
  {
   "cell_type": "code",
   "execution_count": 1,
   "id": "21db5b70",
   "metadata": {},
   "outputs": [],
   "source": [
    "import pandas as pd\n",
    "import numpy as np\n",
    "import io"
   ]
  },
  {
   "cell_type": "code",
   "execution_count": 3,
   "id": "fab33eaf",
   "metadata": {},
   "outputs": [],
   "source": [
    "data=pd.read_csv(\"sample.csv\")"
   ]
  },
  {
   "cell_type": "code",
   "execution_count": 4,
   "id": "f921aa7d",
   "metadata": {},
   "outputs": [
    {
     "data": {
      "text/html": [
       "<div>\n",
       "<style scoped>\n",
       "    .dataframe tbody tr th:only-of-type {\n",
       "        vertical-align: middle;\n",
       "    }\n",
       "\n",
       "    .dataframe tbody tr th {\n",
       "        vertical-align: top;\n",
       "    }\n",
       "\n",
       "    .dataframe thead th {\n",
       "        text-align: right;\n",
       "    }\n",
       "</style>\n",
       "<table border=\"1\" class=\"dataframe\">\n",
       "  <thead>\n",
       "    <tr style=\"text-align: right;\">\n",
       "      <th></th>\n",
       "      <th>Sl.no</th>\n",
       "      <th>name</th>\n",
       "      <th>qualification</th>\n",
       "      <th>mobile</th>\n",
       "      <th>address</th>\n",
       "    </tr>\n",
       "  </thead>\n",
       "  <tbody>\n",
       "    <tr>\n",
       "      <th>0</th>\n",
       "      <td>0</td>\n",
       "      <td>Ananya</td>\n",
       "      <td>MCA</td>\n",
       "      <td>8.974654e+09</td>\n",
       "      <td>crus</td>\n",
       "    </tr>\n",
       "    <tr>\n",
       "      <th>1</th>\n",
       "      <td>1</td>\n",
       "      <td>Biya</td>\n",
       "      <td>MBA</td>\n",
       "      <td>8.795133e+09</td>\n",
       "      <td>jshfj</td>\n",
       "    </tr>\n",
       "    <tr>\n",
       "      <th>2</th>\n",
       "      <td>2</td>\n",
       "      <td>Chaya</td>\n",
       "      <td>MEC</td>\n",
       "      <td>NaN</td>\n",
       "      <td>kjhsdjuhuj</td>\n",
       "    </tr>\n",
       "    <tr>\n",
       "      <th>3</th>\n",
       "      <td>3</td>\n",
       "      <td>Diya</td>\n",
       "      <td>CSE</td>\n",
       "      <td>8.974654e+09</td>\n",
       "      <td>jhbj</td>\n",
       "    </tr>\n",
       "    <tr>\n",
       "      <th>4</th>\n",
       "      <td>4</td>\n",
       "      <td>Isha</td>\n",
       "      <td>Btech</td>\n",
       "      <td>8.974654e+09</td>\n",
       "      <td>kjshdfj</td>\n",
       "    </tr>\n",
       "    <tr>\n",
       "      <th>5</th>\n",
       "      <td>5</td>\n",
       "      <td>Miya</td>\n",
       "      <td>MCOM</td>\n",
       "      <td>NaN</td>\n",
       "      <td>sfc</td>\n",
       "    </tr>\n",
       "    <tr>\n",
       "      <th>6</th>\n",
       "      <td>6</td>\n",
       "      <td>Niya</td>\n",
       "      <td>MA</td>\n",
       "      <td>8.974654e+09</td>\n",
       "      <td>sfc</td>\n",
       "    </tr>\n",
       "    <tr>\n",
       "      <th>7</th>\n",
       "      <td>7</td>\n",
       "      <td>Siya</td>\n",
       "      <td>NaN</td>\n",
       "      <td>8.974054e+09</td>\n",
       "      <td>dfsf</td>\n",
       "    </tr>\n",
       "    <tr>\n",
       "      <th>8</th>\n",
       "      <td>8</td>\n",
       "      <td>Piya</td>\n",
       "      <td>NaN</td>\n",
       "      <td>9.844654e+09</td>\n",
       "      <td>NaN</td>\n",
       "    </tr>\n",
       "    <tr>\n",
       "      <th>9</th>\n",
       "      <td>9</td>\n",
       "      <td>Tiya</td>\n",
       "      <td>Bsc</td>\n",
       "      <td>8.974634e+09</td>\n",
       "      <td>NaN</td>\n",
       "    </tr>\n",
       "  </tbody>\n",
       "</table>\n",
       "</div>"
      ],
      "text/plain": [
       "   Sl.no    name qualification        mobile     address\n",
       "0      0  Ananya           MCA  8.974654e+09        crus\n",
       "1      1    Biya           MBA  8.795133e+09       jshfj\n",
       "2      2   Chaya           MEC           NaN  kjhsdjuhuj\n",
       "3      3    Diya           CSE  8.974654e+09        jhbj\n",
       "4      4    Isha         Btech  8.974654e+09     kjshdfj\n",
       "5      5    Miya          MCOM           NaN         sfc\n",
       "6      6    Niya            MA  8.974654e+09         sfc\n",
       "7      7    Siya           NaN  8.974054e+09        dfsf\n",
       "8      8    Piya           NaN  9.844654e+09         NaN\n",
       "9      9    Tiya           Bsc  8.974634e+09         NaN"
      ]
     },
     "execution_count": 4,
     "metadata": {},
     "output_type": "execute_result"
    }
   ],
   "source": [
    "data"
   ]
  },
  {
   "cell_type": "code",
   "execution_count": 5,
   "id": "80bc906a",
   "metadata": {},
   "outputs": [
    {
     "data": {
      "text/html": [
       "<div>\n",
       "<style scoped>\n",
       "    .dataframe tbody tr th:only-of-type {\n",
       "        vertical-align: middle;\n",
       "    }\n",
       "\n",
       "    .dataframe tbody tr th {\n",
       "        vertical-align: top;\n",
       "    }\n",
       "\n",
       "    .dataframe thead th {\n",
       "        text-align: right;\n",
       "    }\n",
       "</style>\n",
       "<table border=\"1\" class=\"dataframe\">\n",
       "  <thead>\n",
       "    <tr style=\"text-align: right;\">\n",
       "      <th></th>\n",
       "      <th>Sl.no</th>\n",
       "      <th>name</th>\n",
       "      <th>qualification</th>\n",
       "      <th>mobile</th>\n",
       "      <th>address</th>\n",
       "    </tr>\n",
       "  </thead>\n",
       "  <tbody>\n",
       "    <tr>\n",
       "      <th>0</th>\n",
       "      <td>0</td>\n",
       "      <td>Ananya</td>\n",
       "      <td>MCA</td>\n",
       "      <td>8.974654e+09</td>\n",
       "      <td>crus</td>\n",
       "    </tr>\n",
       "    <tr>\n",
       "      <th>1</th>\n",
       "      <td>1</td>\n",
       "      <td>Biya</td>\n",
       "      <td>MBA</td>\n",
       "      <td>8.795133e+09</td>\n",
       "      <td>jshfj</td>\n",
       "    </tr>\n",
       "    <tr>\n",
       "      <th>2</th>\n",
       "      <td>2</td>\n",
       "      <td>Chaya</td>\n",
       "      <td>MEC</td>\n",
       "      <td>NaN</td>\n",
       "      <td>kjhsdjuhuj</td>\n",
       "    </tr>\n",
       "    <tr>\n",
       "      <th>3</th>\n",
       "      <td>3</td>\n",
       "      <td>Diya</td>\n",
       "      <td>CSE</td>\n",
       "      <td>8.974654e+09</td>\n",
       "      <td>jhbj</td>\n",
       "    </tr>\n",
       "    <tr>\n",
       "      <th>4</th>\n",
       "      <td>4</td>\n",
       "      <td>Isha</td>\n",
       "      <td>Btech</td>\n",
       "      <td>8.974654e+09</td>\n",
       "      <td>kjshdfj</td>\n",
       "    </tr>\n",
       "  </tbody>\n",
       "</table>\n",
       "</div>"
      ],
      "text/plain": [
       "   Sl.no    name qualification        mobile     address\n",
       "0      0  Ananya           MCA  8.974654e+09        crus\n",
       "1      1    Biya           MBA  8.795133e+09       jshfj\n",
       "2      2   Chaya           MEC           NaN  kjhsdjuhuj\n",
       "3      3    Diya           CSE  8.974654e+09        jhbj\n",
       "4      4    Isha         Btech  8.974654e+09     kjshdfj"
      ]
     },
     "execution_count": 5,
     "metadata": {},
     "output_type": "execute_result"
    }
   ],
   "source": [
    "data.head(5)"
   ]
  },
  {
   "cell_type": "code",
   "execution_count": 6,
   "id": "e4d152a0",
   "metadata": {},
   "outputs": [],
   "source": [
    "data.drop_duplicates(subset=[\"name\"],keep=\"last\",inplace=True)"
   ]
  },
  {
   "cell_type": "code",
   "execution_count": 7,
   "id": "de4011d4",
   "metadata": {},
   "outputs": [
    {
     "data": {
      "text/html": [
       "<div>\n",
       "<style scoped>\n",
       "    .dataframe tbody tr th:only-of-type {\n",
       "        vertical-align: middle;\n",
       "    }\n",
       "\n",
       "    .dataframe tbody tr th {\n",
       "        vertical-align: top;\n",
       "    }\n",
       "\n",
       "    .dataframe thead th {\n",
       "        text-align: right;\n",
       "    }\n",
       "</style>\n",
       "<table border=\"1\" class=\"dataframe\">\n",
       "  <thead>\n",
       "    <tr style=\"text-align: right;\">\n",
       "      <th></th>\n",
       "      <th>Sl.no</th>\n",
       "      <th>name</th>\n",
       "      <th>qualification</th>\n",
       "      <th>mobile</th>\n",
       "      <th>address</th>\n",
       "    </tr>\n",
       "  </thead>\n",
       "  <tbody>\n",
       "    <tr>\n",
       "      <th>0</th>\n",
       "      <td>0</td>\n",
       "      <td>Ananya</td>\n",
       "      <td>MCA</td>\n",
       "      <td>8.974654e+09</td>\n",
       "      <td>crus</td>\n",
       "    </tr>\n",
       "    <tr>\n",
       "      <th>1</th>\n",
       "      <td>1</td>\n",
       "      <td>Biya</td>\n",
       "      <td>MBA</td>\n",
       "      <td>8.795133e+09</td>\n",
       "      <td>jshfj</td>\n",
       "    </tr>\n",
       "    <tr>\n",
       "      <th>2</th>\n",
       "      <td>2</td>\n",
       "      <td>Chaya</td>\n",
       "      <td>MEC</td>\n",
       "      <td>NaN</td>\n",
       "      <td>kjhsdjuhuj</td>\n",
       "    </tr>\n",
       "    <tr>\n",
       "      <th>3</th>\n",
       "      <td>3</td>\n",
       "      <td>Diya</td>\n",
       "      <td>CSE</td>\n",
       "      <td>8.974654e+09</td>\n",
       "      <td>jhbj</td>\n",
       "    </tr>\n",
       "    <tr>\n",
       "      <th>4</th>\n",
       "      <td>4</td>\n",
       "      <td>Isha</td>\n",
       "      <td>Btech</td>\n",
       "      <td>8.974654e+09</td>\n",
       "      <td>kjshdfj</td>\n",
       "    </tr>\n",
       "    <tr>\n",
       "      <th>5</th>\n",
       "      <td>5</td>\n",
       "      <td>Miya</td>\n",
       "      <td>MCOM</td>\n",
       "      <td>NaN</td>\n",
       "      <td>sfc</td>\n",
       "    </tr>\n",
       "    <tr>\n",
       "      <th>6</th>\n",
       "      <td>6</td>\n",
       "      <td>Niya</td>\n",
       "      <td>MA</td>\n",
       "      <td>8.974654e+09</td>\n",
       "      <td>sfc</td>\n",
       "    </tr>\n",
       "    <tr>\n",
       "      <th>7</th>\n",
       "      <td>7</td>\n",
       "      <td>Siya</td>\n",
       "      <td>NaN</td>\n",
       "      <td>8.974054e+09</td>\n",
       "      <td>dfsf</td>\n",
       "    </tr>\n",
       "    <tr>\n",
       "      <th>8</th>\n",
       "      <td>8</td>\n",
       "      <td>Piya</td>\n",
       "      <td>NaN</td>\n",
       "      <td>9.844654e+09</td>\n",
       "      <td>NaN</td>\n",
       "    </tr>\n",
       "    <tr>\n",
       "      <th>9</th>\n",
       "      <td>9</td>\n",
       "      <td>Tiya</td>\n",
       "      <td>Bsc</td>\n",
       "      <td>8.974634e+09</td>\n",
       "      <td>NaN</td>\n",
       "    </tr>\n",
       "  </tbody>\n",
       "</table>\n",
       "</div>"
      ],
      "text/plain": [
       "   Sl.no    name qualification        mobile     address\n",
       "0      0  Ananya           MCA  8.974654e+09        crus\n",
       "1      1    Biya           MBA  8.795133e+09       jshfj\n",
       "2      2   Chaya           MEC           NaN  kjhsdjuhuj\n",
       "3      3    Diya           CSE  8.974654e+09        jhbj\n",
       "4      4    Isha         Btech  8.974654e+09     kjshdfj\n",
       "5      5    Miya          MCOM           NaN         sfc\n",
       "6      6    Niya            MA  8.974654e+09         sfc\n",
       "7      7    Siya           NaN  8.974054e+09        dfsf\n",
       "8      8    Piya           NaN  9.844654e+09         NaN\n",
       "9      9    Tiya           Bsc  8.974634e+09         NaN"
      ]
     },
     "execution_count": 7,
     "metadata": {},
     "output_type": "execute_result"
    }
   ],
   "source": [
    "data"
   ]
  },
  {
   "cell_type": "code",
   "execution_count": 8,
   "id": "330516be",
   "metadata": {},
   "outputs": [
    {
     "data": {
      "text/plain": [
       "Sl.no            0\n",
       "name             0\n",
       "qualification    2\n",
       "mobile           2\n",
       "address          2\n",
       "dtype: int64"
      ]
     },
     "execution_count": 8,
     "metadata": {},
     "output_type": "execute_result"
    }
   ],
   "source": [
    "data.isnull().sum()"
   ]
  },
  {
   "cell_type": "code",
   "execution_count": 11,
   "id": "2d34347c",
   "metadata": {},
   "outputs": [],
   "source": [
    "data_dropped=data.dropna()"
   ]
  },
  {
   "cell_type": "code",
   "execution_count": 13,
   "id": "c831c1a7",
   "metadata": {},
   "outputs": [
    {
     "data": {
      "text/html": [
       "<div>\n",
       "<style scoped>\n",
       "    .dataframe tbody tr th:only-of-type {\n",
       "        vertical-align: middle;\n",
       "    }\n",
       "\n",
       "    .dataframe tbody tr th {\n",
       "        vertical-align: top;\n",
       "    }\n",
       "\n",
       "    .dataframe thead th {\n",
       "        text-align: right;\n",
       "    }\n",
       "</style>\n",
       "<table border=\"1\" class=\"dataframe\">\n",
       "  <thead>\n",
       "    <tr style=\"text-align: right;\">\n",
       "      <th></th>\n",
       "      <th>Sl.no</th>\n",
       "      <th>name</th>\n",
       "      <th>qualification</th>\n",
       "      <th>mobile</th>\n",
       "      <th>address</th>\n",
       "    </tr>\n",
       "  </thead>\n",
       "  <tbody>\n",
       "    <tr>\n",
       "      <th>0</th>\n",
       "      <td>0</td>\n",
       "      <td>Ananya</td>\n",
       "      <td>MCA</td>\n",
       "      <td>8.974654e+09</td>\n",
       "      <td>crus</td>\n",
       "    </tr>\n",
       "    <tr>\n",
       "      <th>1</th>\n",
       "      <td>1</td>\n",
       "      <td>Biya</td>\n",
       "      <td>MBA</td>\n",
       "      <td>8.795133e+09</td>\n",
       "      <td>jshfj</td>\n",
       "    </tr>\n",
       "    <tr>\n",
       "      <th>2</th>\n",
       "      <td>2</td>\n",
       "      <td>Chaya</td>\n",
       "      <td>MEC</td>\n",
       "      <td>NaN</td>\n",
       "      <td>kjhsdjuhuj</td>\n",
       "    </tr>\n",
       "    <tr>\n",
       "      <th>3</th>\n",
       "      <td>3</td>\n",
       "      <td>Diya</td>\n",
       "      <td>CSE</td>\n",
       "      <td>8.974654e+09</td>\n",
       "      <td>jhbj</td>\n",
       "    </tr>\n",
       "    <tr>\n",
       "      <th>4</th>\n",
       "      <td>4</td>\n",
       "      <td>Isha</td>\n",
       "      <td>Btech</td>\n",
       "      <td>8.974654e+09</td>\n",
       "      <td>kjshdfj</td>\n",
       "    </tr>\n",
       "  </tbody>\n",
       "</table>\n",
       "</div>"
      ],
      "text/plain": [
       "   Sl.no    name qualification        mobile     address\n",
       "0      0  Ananya           MCA  8.974654e+09        crus\n",
       "1      1    Biya           MBA  8.795133e+09       jshfj\n",
       "2      2   Chaya           MEC           NaN  kjhsdjuhuj\n",
       "3      3    Diya           CSE  8.974654e+09        jhbj\n",
       "4      4    Isha         Btech  8.974654e+09     kjshdfj"
      ]
     },
     "execution_count": 13,
     "metadata": {},
     "output_type": "execute_result"
    }
   ],
   "source": [
    "data.head()"
   ]
  },
  {
   "cell_type": "code",
   "execution_count": 14,
   "id": "8eb3d2eb",
   "metadata": {},
   "outputs": [
    {
     "data": {
      "text/plain": [
       "Sl.no            0\n",
       "name             0\n",
       "qualification    2\n",
       "mobile           2\n",
       "address          2\n",
       "dtype: int64"
      ]
     },
     "execution_count": 14,
     "metadata": {},
     "output_type": "execute_result"
    }
   ],
   "source": [
    "data.isnull().sum()"
   ]
  },
  {
   "cell_type": "code",
   "execution_count": 16,
   "id": "7f89216e",
   "metadata": {},
   "outputs": [],
   "source": [
    "data['address']=data['address'].fillna(\"sullia\")"
   ]
  },
  {
   "cell_type": "code",
   "execution_count": 17,
   "id": "b8247622",
   "metadata": {},
   "outputs": [
    {
     "data": {
      "text/html": [
       "<div>\n",
       "<style scoped>\n",
       "    .dataframe tbody tr th:only-of-type {\n",
       "        vertical-align: middle;\n",
       "    }\n",
       "\n",
       "    .dataframe tbody tr th {\n",
       "        vertical-align: top;\n",
       "    }\n",
       "\n",
       "    .dataframe thead th {\n",
       "        text-align: right;\n",
       "    }\n",
       "</style>\n",
       "<table border=\"1\" class=\"dataframe\">\n",
       "  <thead>\n",
       "    <tr style=\"text-align: right;\">\n",
       "      <th></th>\n",
       "      <th>Sl.no</th>\n",
       "      <th>name</th>\n",
       "      <th>qualification</th>\n",
       "      <th>mobile</th>\n",
       "      <th>address</th>\n",
       "    </tr>\n",
       "  </thead>\n",
       "  <tbody>\n",
       "    <tr>\n",
       "      <th>0</th>\n",
       "      <td>0</td>\n",
       "      <td>Ananya</td>\n",
       "      <td>MCA</td>\n",
       "      <td>8.974654e+09</td>\n",
       "      <td>crus</td>\n",
       "    </tr>\n",
       "    <tr>\n",
       "      <th>1</th>\n",
       "      <td>1</td>\n",
       "      <td>Biya</td>\n",
       "      <td>MBA</td>\n",
       "      <td>8.795133e+09</td>\n",
       "      <td>jshfj</td>\n",
       "    </tr>\n",
       "    <tr>\n",
       "      <th>2</th>\n",
       "      <td>2</td>\n",
       "      <td>Chaya</td>\n",
       "      <td>MEC</td>\n",
       "      <td>NaN</td>\n",
       "      <td>kjhsdjuhuj</td>\n",
       "    </tr>\n",
       "    <tr>\n",
       "      <th>3</th>\n",
       "      <td>3</td>\n",
       "      <td>Diya</td>\n",
       "      <td>CSE</td>\n",
       "      <td>8.974654e+09</td>\n",
       "      <td>jhbj</td>\n",
       "    </tr>\n",
       "    <tr>\n",
       "      <th>4</th>\n",
       "      <td>4</td>\n",
       "      <td>Isha</td>\n",
       "      <td>Btech</td>\n",
       "      <td>8.974654e+09</td>\n",
       "      <td>kjshdfj</td>\n",
       "    </tr>\n",
       "    <tr>\n",
       "      <th>5</th>\n",
       "      <td>5</td>\n",
       "      <td>Miya</td>\n",
       "      <td>MCOM</td>\n",
       "      <td>NaN</td>\n",
       "      <td>sfc</td>\n",
       "    </tr>\n",
       "    <tr>\n",
       "      <th>6</th>\n",
       "      <td>6</td>\n",
       "      <td>Niya</td>\n",
       "      <td>MA</td>\n",
       "      <td>8.974654e+09</td>\n",
       "      <td>sfc</td>\n",
       "    </tr>\n",
       "    <tr>\n",
       "      <th>7</th>\n",
       "      <td>7</td>\n",
       "      <td>Siya</td>\n",
       "      <td>NaN</td>\n",
       "      <td>8.974054e+09</td>\n",
       "      <td>dfsf</td>\n",
       "    </tr>\n",
       "    <tr>\n",
       "      <th>8</th>\n",
       "      <td>8</td>\n",
       "      <td>Piya</td>\n",
       "      <td>NaN</td>\n",
       "      <td>9.844654e+09</td>\n",
       "      <td>sullia</td>\n",
       "    </tr>\n",
       "    <tr>\n",
       "      <th>9</th>\n",
       "      <td>9</td>\n",
       "      <td>Tiya</td>\n",
       "      <td>Bsc</td>\n",
       "      <td>8.974634e+09</td>\n",
       "      <td>sullia</td>\n",
       "    </tr>\n",
       "  </tbody>\n",
       "</table>\n",
       "</div>"
      ],
      "text/plain": [
       "   Sl.no    name qualification        mobile     address\n",
       "0      0  Ananya           MCA  8.974654e+09        crus\n",
       "1      1    Biya           MBA  8.795133e+09       jshfj\n",
       "2      2   Chaya           MEC           NaN  kjhsdjuhuj\n",
       "3      3    Diya           CSE  8.974654e+09        jhbj\n",
       "4      4    Isha         Btech  8.974654e+09     kjshdfj\n",
       "5      5    Miya          MCOM           NaN         sfc\n",
       "6      6    Niya            MA  8.974654e+09         sfc\n",
       "7      7    Siya           NaN  8.974054e+09        dfsf\n",
       "8      8    Piya           NaN  9.844654e+09      sullia\n",
       "9      9    Tiya           Bsc  8.974634e+09      sullia"
      ]
     },
     "execution_count": 17,
     "metadata": {},
     "output_type": "execute_result"
    }
   ],
   "source": [
    "data"
   ]
  },
  {
   "cell_type": "code",
   "execution_count": 18,
   "id": "7778783f",
   "metadata": {},
   "outputs": [
    {
     "data": {
      "text/plain": [
       "Sl.no            0\n",
       "name             0\n",
       "qualification    2\n",
       "mobile           2\n",
       "address          0\n",
       "dtype: int64"
      ]
     },
     "execution_count": 18,
     "metadata": {},
     "output_type": "execute_result"
    }
   ],
   "source": [
    "data.isnull().sum()"
   ]
  },
  {
   "cell_type": "code",
   "execution_count": 19,
   "id": "d75c6314",
   "metadata": {},
   "outputs": [],
   "source": [
    "array=np.array([[1,1,1],[2,3,4],[4,5,6],])"
   ]
  },
  {
   "cell_type": "code",
   "execution_count": 20,
   "id": "ecd7044e",
   "metadata": {},
   "outputs": [],
   "source": [
    "index_values=['row1','row2','row3']"
   ]
  },
  {
   "cell_type": "code",
   "execution_count": 21,
   "id": "f2c3aa76",
   "metadata": {},
   "outputs": [],
   "source": [
    "column_values=['col1','col2','col3']"
   ]
  },
  {
   "cell_type": "code",
   "execution_count": 22,
   "id": "0846788e",
   "metadata": {},
   "outputs": [],
   "source": [
    "df=pd.DataFrame(data=array,index=index_values,columns=column_values)"
   ]
  },
  {
   "cell_type": "code",
   "execution_count": 23,
   "id": "59bd5efc",
   "metadata": {},
   "outputs": [
    {
     "name": "stdout",
     "output_type": "stream",
     "text": [
      "      col1  col2  col3\n",
      "row1     1     1     1\n",
      "row2     2     3     4\n",
      "row3     4     5     6\n"
     ]
    }
   ],
   "source": [
    "print(df)"
   ]
  },
  {
   "cell_type": "code",
   "execution_count": 24,
   "id": "2377e0da",
   "metadata": {},
   "outputs": [
    {
     "data": {
      "text/html": [
       "<div>\n",
       "<style scoped>\n",
       "    .dataframe tbody tr th:only-of-type {\n",
       "        vertical-align: middle;\n",
       "    }\n",
       "\n",
       "    .dataframe tbody tr th {\n",
       "        vertical-align: top;\n",
       "    }\n",
       "\n",
       "    .dataframe thead th {\n",
       "        text-align: right;\n",
       "    }\n",
       "</style>\n",
       "<table border=\"1\" class=\"dataframe\">\n",
       "  <thead>\n",
       "    <tr style=\"text-align: right;\">\n",
       "      <th></th>\n",
       "      <th>col1</th>\n",
       "      <th>col2</th>\n",
       "      <th>col3</th>\n",
       "    </tr>\n",
       "  </thead>\n",
       "  <tbody>\n",
       "    <tr>\n",
       "      <th>row1</th>\n",
       "      <td>1</td>\n",
       "      <td>1</td>\n",
       "      <td>1</td>\n",
       "    </tr>\n",
       "    <tr>\n",
       "      <th>row2</th>\n",
       "      <td>2</td>\n",
       "      <td>3</td>\n",
       "      <td>4</td>\n",
       "    </tr>\n",
       "    <tr>\n",
       "      <th>row3</th>\n",
       "      <td>4</td>\n",
       "      <td>5</td>\n",
       "      <td>6</td>\n",
       "    </tr>\n",
       "  </tbody>\n",
       "</table>\n",
       "</div>"
      ],
      "text/plain": [
       "      col1  col2  col3\n",
       "row1     1     1     1\n",
       "row2     2     3     4\n",
       "row3     4     5     6"
      ]
     },
     "execution_count": 24,
     "metadata": {},
     "output_type": "execute_result"
    }
   ],
   "source": [
    "df"
   ]
  },
  {
   "cell_type": "code",
   "execution_count": 25,
   "id": "3a524929",
   "metadata": {},
   "outputs": [],
   "source": [
    "trace = np.trace(df)"
   ]
  },
  {
   "cell_type": "code",
   "execution_count": 27,
   "id": "1aebb96c",
   "metadata": {},
   "outputs": [
    {
     "name": "stdout",
     "output_type": "stream",
     "text": [
      "trasce of the matrix 10\n"
     ]
    }
   ],
   "source": [
    "print(\"trasce of the matrix\",trace)"
   ]
  },
  {
   "cell_type": "code",
   "execution_count": null,
   "id": "8d35bb23",
   "metadata": {},
   "outputs": [],
   "source": []
  }
 ],
 "metadata": {
  "kernelspec": {
   "display_name": "Python 3 (ipykernel)",
   "language": "python",
   "name": "python3"
  },
  "language_info": {
   "codemirror_mode": {
    "name": "ipython",
    "version": 3
   },
   "file_extension": ".py",
   "mimetype": "text/x-python",
   "name": "python",
   "nbconvert_exporter": "python",
   "pygments_lexer": "ipython3",
   "version": "3.9.7"
  }
 },
 "nbformat": 4,
 "nbformat_minor": 5
}
