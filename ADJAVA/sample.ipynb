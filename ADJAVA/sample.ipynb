{
 "cells": [
  {
   "cell_type": "code",
   "execution_count": null,
   "id": "1e7a2fb4",
   "metadata": {},
   "outputs": [],
   "source": [
    "print(\"enter a no\")\n",
    "x=input()\n",
    "print(\"the no is\", x)"
   ]
  },
  {
   "cell_type": "code",
   "execution_count": null,
   "id": "5b0b60b3",
   "metadata": {},
   "outputs": [],
   "source": [
    "hr=int(input(\"enter hr\"))\n",
    "rate=int(input(\"enter rate\"))\n",
    "pay=hr*rate\n",
    "#float(pay)\n",
    "print(\"Pay\", float(pay))"
   ]
  },
  {
   "cell_type": "code",
   "execution_count": null,
   "id": "23712c5f",
   "metadata": {},
   "outputs": [],
   "source": [
    "print(\"enter a no\")\n",
    "x=input()\n",
    "y=input()\n",
    "\n",
    "print(\"the no is\", x+y)"
   ]
  },
  {
   "cell_type": "markdown",
   "id": "ea986a2f",
   "metadata": {},
   "source": [
    "#sclicing"
   ]
  },
  {
   "cell_type": "code",
   "execution_count": null,
   "id": "7a6d0b07",
   "metadata": {},
   "outputs": [],
   "source": [
    "string=\"thisismanisha\"\n",
    "print(string[0:10])"
   ]
  },
  {
   "cell_type": "code",
   "execution_count": null,
   "id": "3c2c74b5",
   "metadata": {},
   "outputs": [],
   "source": [
    "string=\"thisismanisha\"\n",
    "print(string[4:])\n",
    "print(string[6:2])\n",
    "print(string[-4:-2])"
   ]
  },
  {
   "cell_type": "code",
   "execution_count": null,
   "id": "cb2294da",
   "metadata": {},
   "outputs": [],
   "source": [
    "string=\"0123456789\"\n",
    "print(string[2::2])\n",
    "print(string[2::4])\n",
    "print(string[2:8:3])\n",
    "print(string[::-1]) #reverse\n",
    "print(string[4:9:2])"
   ]
  },
  {
   "cell_type": "code",
   "execution_count": null,
   "id": "c9e11c24",
   "metadata": {},
   "outputs": [],
   "source": [
    "string=\"thisismanisha\"\n",
    "print(string.upper())"
   ]
  },
  {
   "cell_type": "code",
   "execution_count": null,
   "id": "ed59c6fd",
   "metadata": {},
   "outputs": [],
   "source": [
    "string=\"thisismanisha3\"\n",
    "print(string.isalnum())"
   ]
  },
  {
   "cell_type": "code",
   "execution_count": null,
   "id": "03d8e450",
   "metadata": {},
   "outputs": [],
   "source": [
    "list1=[123,3254,\"fghjh\",23.4]\n",
    "list1.append(\"swfr\")\n",
    "list1.insert(3,\"sfvvv\")\n",
    "list1[2]=\"manisha\"\n",
    "print(list1[3])\n",
    "print(list1)"
   ]
  },
  {
   "cell_type": "code",
   "execution_count": null,
   "id": "15dc14a5",
   "metadata": {},
   "outputs": [],
   "source": [
    "list1=[123,3254,\"fghjh\",23.4,[234,4,5,2]]\n",
    "list1.clear()\n",
    "print(list1)"
   ]
  },
  {
   "cell_type": "markdown",
   "id": "b87e931a",
   "metadata": {},
   "source": [
    "#dictionary"
   ]
  },
  {
   "cell_type": "code",
   "execution_count": null,
   "id": "162b2b8d",
   "metadata": {},
   "outputs": [],
   "source": [
    "mydictionary={\n",
    "    \"name\":\"Manisha\",\n",
    "    \"Class\":\"MCA\",\n",
    "    2:\"435\",\n",
    "    2:\"ert\"    \n",
    "}\n",
    "my={\n",
    "    \"date\":\"1/12/22\",\n",
    "    \"month\":12,\n",
    "    \"year\":2022,\n",
    "    2:34654\n",
    "}\n",
    "print(mydictionary[2])\n",
    "print(my[2])\n",
    "my[5]=\"messi\"\n",
    "print(my)"
   ]
  },
  {
   "cell_type": "code",
   "execution_count": null,
   "id": "86c0a8b7",
   "metadata": {},
   "outputs": [],
   "source": [
    "x=(2,3,'c',43)\n",
    "print(x)\n",
    "x[3]\n",
    "print(x[1])"
   ]
  },
  {
   "cell_type": "code",
   "execution_count": null,
   "id": "e63c3e58",
   "metadata": {},
   "outputs": [],
   "source": []
  },
  {
   "cell_type": "code",
   "execution_count": null,
   "id": "24832ec3",
   "metadata": {},
   "outputs": [],
   "source": [
    "print(x[1])"
   ]
  },
  {
   "cell_type": "code",
   "execution_count": null,
   "id": "716b59e1",
   "metadata": {},
   "outputs": [],
   "source": [
    "x=100\n",
    "y=40\n",
    "if x>=y:\n",
    "    print(\"X is greater\")\n",
    "    print(\"Thank u\")\n",
    "elif y<=x:\n",
    "    print(\"Y is greater\")\n",
    "else:\n",
    "    print(\"both are equal\")"
   ]
  },
  {
   "cell_type": "code",
   "execution_count": null,
   "id": "81c834d5",
   "metadata": {},
   "outputs": [],
   "source": [
    "x=1\n",
    "while x<=5:\n",
    "    print(\"Hello\")\n",
    "    x+=1"
   ]
  },
  {
   "cell_type": "code",
   "execution_count": null,
   "id": "3a0873dc",
   "metadata": {},
   "outputs": [],
   "source": [
    "i=0\n",
    "while i<=5:\n",
    "    print(\"something\")\n",
    "    i+=1"
   ]
  },
  {
   "cell_type": "code",
   "execution_count": null,
   "id": "6763270b",
   "metadata": {},
   "outputs": [],
   "source": []
  },
  {
   "cell_type": "code",
   "execution_count": null,
   "id": "eda8ecdb",
   "metadata": {},
   "outputs": [],
   "source": []
  }
 ],
 "metadata": {
  "kernelspec": {
   "display_name": "Python 3 (ipykernel)",
   "language": "python",
   "name": "python3"
  },
  "language_info": {
   "codemirror_mode": {
    "name": "ipython",
    "version": 3
   },
   "file_extension": ".py",
   "mimetype": "text/x-python",
   "name": "python",
   "nbconvert_exporter": "python",
   "pygments_lexer": "ipython3",
   "version": "3.9.7"
  }
 },
 "nbformat": 4,
 "nbformat_minor": 5
}
