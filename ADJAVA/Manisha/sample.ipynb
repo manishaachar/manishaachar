{
 "cells": [
  {
   "cell_type": "code",
   "execution_count": 1,
   "id": "0cea68a5",
   "metadata": {},
   "outputs": [
    {
     "name": "stdout",
     "output_type": "stream",
     "text": [
      "Hello world\n"
     ]
    }
   ],
   "source": [
    "print(\"Hello world\")"
   ]
  },
  {
   "cell_type": "code",
   "execution_count": 4,
   "id": "61e4cbf0",
   "metadata": {},
   "outputs": [],
   "source": [
    "#rtteer"
   ]
  },
  {
   "cell_type": "code",
   "execution_count": 10,
   "id": "2605d218",
   "metadata": {},
   "outputs": [
    {
     "name": "stdout",
     "output_type": "stream",
     "text": [
      "10\n",
      "10.78\n",
      "X\n",
      "this is manisha\n",
      "Hello world\n",
      "tkjerhtiuebheikrthjueik\n",
      "domr\n",
      "\n"
     ]
    }
   ],
   "source": [
    "x=10\n",
    "y=10.78\n",
    "z=\"X\"\n",
    "a=\"this is manisha\"\n",
    "b=\"Fine\"\n",
    "print(x)\n",
    "print(y)\n",
    "print(z)\n",
    "print(a)\n",
    "print(\"Hello world\")\n",
    "x=\"\"\"tkjerhtiuebheikrthjueik\n",
    "domr\n",
    "\"\"\"\n",
    "print(x)"
   ]
  },
  {
   "cell_type": "code",
   "execution_count": 11,
   "id": "45f2c2a0",
   "metadata": {},
   "outputs": [
    {
     "name": "stdout",
     "output_type": "stream",
     "text": [
      "Hello indians. this is an apple\n"
     ]
    }
   ],
   "source": [
    "string=\"hello indiaNS. this is an apple\"\n",
    "print(string.capitalize())"
   ]
  },
  {
   "cell_type": "code",
   "execution_count": 18,
   "id": "2644292b",
   "metadata": {},
   "outputs": [
    {
     "name": "stdout",
     "output_type": "stream",
     "text": [
      "hello indians. this is an apple\n",
      "2\n"
     ]
    }
   ],
   "source": [
    "string=\"hello indianS. this iS an apple\"\n",
    "print(string.casefold())\n",
    "#string count\n",
    "print(string.count(\"an\"))"
   ]
  },
  {
   "cell_type": "code",
   "execution_count": 19,
   "id": "d8cebbeb",
   "metadata": {},
   "outputs": [
    {
     "name": "stdout",
     "output_type": "stream",
     "text": [
      "b is greater\n"
     ]
    }
   ],
   "source": [
    "a=10\n",
    "b=20\n",
    "if a>b:\n",
    "    print(\"yes its greater\")\n",
    "elif b>a:\n",
    "    print(\"b is greater\")\n",
    "else:\n",
    "    print(\"both are equal\")"
   ]
  },
  {
   "cell_type": "code",
   "execution_count": 20,
   "id": "f0799087",
   "metadata": {},
   "outputs": [
    {
     "name": "stdout",
     "output_type": "stream",
     "text": [
      "something\n",
      "something\n",
      "something\n",
      "something\n",
      "something\n"
     ]
    }
   ],
   "source": [
    "i=0\n",
    "while i<5:\n",
    "    print(\"something\")\n",
    "    i+=1"
   ]
  },
  {
   "cell_type": "code",
   "execution_count": 31,
   "id": "1db0363e",
   "metadata": {},
   "outputs": [
    {
     "name": "stdout",
     "output_type": "stream",
     "text": [
      "4\n",
      "10\n",
      "True\n"
     ]
    }
   ],
   "source": [
    "string=\"hello indianS. this iS an apple\"\n",
    "str1=\"helloworld\"\n",
    "print(string.find(\"o\"))\n",
    "print(string.index(\"a\"))\n",
    "print(str1.isalpha())\n"
   ]
  },
  {
   "cell_type": "code",
   "execution_count": 35,
   "id": "e65ebcfe",
   "metadata": {},
   "outputs": [
    {
     "name": "stdout",
     "output_type": "stream",
     "text": [
      "True\n",
      "True\n"
     ]
    }
   ],
   "source": [
    "str1=\"helloworld1321\"\n",
    "str2=\"2341\"\n",
    "print(str1.isalnum())\n",
    "print(str2.isdigit())"
   ]
  },
  {
   "cell_type": "code",
   "execution_count": 43,
   "id": "e8804181",
   "metadata": {},
   "outputs": [
    {
     "name": "stdout",
     "output_type": "stream",
     "text": [
      "True\n",
      "False\n"
     ]
    }
   ],
   "source": [
    "#str2=\"2341\"\n",
    "print(\"_1manisha\".isidentifier())\n",
    "print(\"1manisha\".isidentifier())"
   ]
  },
  {
   "cell_type": "code",
   "execution_count": 54,
   "id": "d3d4a20c",
   "metadata": {},
   "outputs": [
    {
     "name": "stdout",
     "output_type": "stream",
     "text": [
      "True\n"
     ]
    }
   ],
   "source": [
    "#string=\"hello indianS. this iS an apple\"\n",
    "print(\" \".isspace()) "
   ]
  },
  {
   "cell_type": "code",
   "execution_count": 52,
   "id": "62c07064",
   "metadata": {},
   "outputs": [
    {
     "name": "stdout",
     "output_type": "stream",
     "text": [
      "True\n"
     ]
    }
   ],
   "source": [
    "string=\"HELLO\"\n",
    "print(string.isupper())"
   ]
  },
  {
   "cell_type": "code",
   "execution_count": 55,
   "id": "9740bdf8",
   "metadata": {},
   "outputs": [
    {
     "name": "stdout",
     "output_type": "stream",
     "text": [
      "False\n"
     ]
    }
   ],
   "source": [
    "string=\"hello indianS. this iS an apple\"\n",
    "print(string.islower())"
   ]
  },
  {
   "cell_type": "code",
   "execution_count": 82,
   "id": "c3b877ac",
   "metadata": {},
   "outputs": [
    {
     "name": "stdout",
     "output_type": "stream",
     "text": [
      "hello india\n",
      "l n\n",
      "app\n"
     ]
    }
   ],
   "source": [
    "string=\"hello indianS. this iS an apple\"\n",
    "print(string[:11])\n",
    "print(string[3:9:2])\n",
    "print(string[-5:-2])"
   ]
  },
  {
   "cell_type": "code",
   "execution_count": 121,
   "id": "096b27ef",
   "metadata": {},
   "outputs": [
    {
     "name": "stdout",
     "output_type": "stream",
     "text": [
      "g frie\n"
     ]
    }
   ],
   "source": [
    "string=\"good morning friends\"\n",
    "print(string[-9:-3])"
   ]
  },
  {
   "cell_type": "code",
   "execution_count": 112,
   "id": "4fe90d9c",
   "metadata": {},
   "outputs": [
    {
     "name": "stdout",
     "output_type": "stream",
     "text": [
      "malayalaM\n",
      "its palindrome\n"
     ]
    }
   ],
   "source": [
    "a=\"Malayalam\"\n",
    "print(a[::-1])\n",
    "if a==a:\n",
    "    print(\"its palindrome\")\n",
    "else:\n",
    "    print(\"not a palindrome\")"
   ]
  },
  {
   "cell_type": "code",
   "execution_count": 117,
   "id": "80dbe043",
   "metadata": {},
   "outputs": [
    {
     "name": "stdout",
     "output_type": "stream",
     "text": [
      "True\n"
     ]
    }
   ],
   "source": [
    "string=\"MalayalaM\"\n",
    "temp=string.lower()\n",
    "print(temp==temp[::-1])"
   ]
  },
  {
   "cell_type": "code",
   "execution_count": 135,
   "id": "dbf45861",
   "metadata": {},
   "outputs": [
    {
     "name": "stdout",
     "output_type": "stream",
     "text": [
      "3\n",
      "<class 'list'>\n"
     ]
    }
   ],
   "source": [
    "list=[\"hgew\",[3,5,6],3,58,'sedf']\n",
    "print(list[1][0])\n",
    "print(type(list))"
   ]
  },
  {
   "cell_type": "code",
   "execution_count": 145,
   "id": "aff747a7",
   "metadata": {},
   "outputs": [
    {
     "name": "stdout",
     "output_type": "stream",
     "text": [
      "[98, 57]\n",
      "[4, 6, 7, 98, 98, 57, 3]\n"
     ]
    }
   ],
   "source": [
    "a=[4,6,7,98,98,57]\n",
    "\n",
    "print(a[4:6])\n",
    "a.append(3)\n",
    "print(a)"
   ]
  },
  {
   "cell_type": "code",
   "execution_count": 193,
   "id": "9f0faae0",
   "metadata": {},
   "outputs": [
    {
     "name": "stdout",
     "output_type": "stream",
     "text": [
      "[23, 35, 6, 78, 8, 8, 8, 54, 6, 8, 8]\n"
     ]
    }
   ],
   "source": [
    "list1=[23,35,6,78,8,8,8]\n",
    "list2=[54,6,8,8]\n",
    "list1.extend(list2)\n",
    "print(list1)"
   ]
  },
  {
   "cell_type": "code",
   "execution_count": 195,
   "id": "d04a7a73",
   "metadata": {},
   "outputs": [
    {
     "name": "stdout",
     "output_type": "stream",
     "text": [
      "[54, 6, 8]\n"
     ]
    }
   ],
   "source": [
    "list1=[23,35,6,78,8,7,7,7]\n",
    "list2=[54,6,8,8]\n",
    "#list1.insert(-2,\"er\")\n",
    "list2.pop(2)\n",
    "print(list2)"
   ]
  },
  {
   "cell_type": "code",
   "execution_count": 170,
   "id": "e3953b80",
   "metadata": {},
   "outputs": [
    {
     "name": "stdout",
     "output_type": "stream",
     "text": [
      "[23, 35, 78, 8]\n"
     ]
    }
   ],
   "source": [
    "list1.pop(2)\n",
    "print(list1)"
   ]
  },
  {
   "cell_type": "code",
   "execution_count": 171,
   "id": "fe909277",
   "metadata": {},
   "outputs": [
    {
     "name": "stdout",
     "output_type": "stream",
     "text": [
      "[23, 35, 78, 8]\n"
     ]
    }
   ],
   "source": [
    "print(list1)"
   ]
  },
  {
   "cell_type": "code",
   "execution_count": 179,
   "id": "9a584e56",
   "metadata": {},
   "outputs": [
    {
     "name": "stdout",
     "output_type": "stream",
     "text": [
      "0\n",
      "[23, 35, 6, 'er', 78, 8]\n"
     ]
    }
   ],
   "source": [
    "print(list1.index(23))\n",
    "print(list1)"
   ]
  },
  {
   "cell_type": "code",
   "execution_count": 184,
   "id": "28385ef2",
   "metadata": {},
   "outputs": [
    {
     "name": "stdout",
     "output_type": "stream",
     "text": [
      "[8, 78, 'er', 6, 35, 23]\n"
     ]
    }
   ],
   "source": [
    "list1.reverse()\n",
    "print(list1)"
   ]
  },
  {
   "cell_type": "code",
   "execution_count": 189,
   "id": "953c7b9f",
   "metadata": {},
   "outputs": [
    {
     "name": "stdout",
     "output_type": "stream",
     "text": [
      "[6, 8, 23, 35, 78]\n"
     ]
    }
   ],
   "source": [
    "list1.sort()\n",
    "print(list1)"
   ]
  },
  {
   "cell_type": "code",
   "execution_count": 197,
   "id": "014ebe88",
   "metadata": {},
   "outputs": [
    {
     "name": "stdout",
     "output_type": "stream",
     "text": [
      "3\n"
     ]
    }
   ],
   "source": [
    "list1=[23,35,6,78,8,7,7,7]\n",
    "print(list1.count(7))\n",
    "#print(list1)"
   ]
  },
  {
   "cell_type": "code",
   "execution_count": null,
   "id": "558a3ebe",
   "metadata": {},
   "outputs": [],
   "source": []
  }
 ],
 "metadata": {
  "kernelspec": {
   "display_name": "Python 3 (ipykernel)",
   "language": "python",
   "name": "python3"
  },
  "language_info": {
   "codemirror_mode": {
    "name": "ipython",
    "version": 3
   },
   "file_extension": ".py",
   "mimetype": "text/x-python",
   "name": "python",
   "nbconvert_exporter": "python",
   "pygments_lexer": "ipython3",
   "version": "3.9.7"
  }
 },
 "nbformat": 4,
 "nbformat_minor": 5
}
